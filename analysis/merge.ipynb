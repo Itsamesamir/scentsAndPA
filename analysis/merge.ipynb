{
 "cells": [
  {
   "cell_type": "markdown",
   "id": "9b110341",
   "metadata": {},
   "source": [
    "# Merging Exercise Recordings with User Data\n",
    "\n",
    "This notebook loads two JSON files:\n",
    "\n",
    "1. **Exercise Recordings** (`exercise_recordings_2025-04-13_12-38-11.json`): Contains exercise sessions including fields such as `userEmail`, `exerciseName`, heart rate data, and accelerometer data.\n",
    "2. **Users** (`users_2025-04-13_12-38-11.json`): Contains user information, including a unique `email` field, among other details.\n",
    "\n",
    "The objective is to combine (i.e. perform an inner merge) these two datasets by matching `userEmail` from the exercise recordings with `email` in the user records. This allows for enriching the exercise data with additional user-specific details."
   ]
  },
  {
   "cell_type": "code",
   "execution_count": 1,
   "id": "eed85cf2",
   "metadata": {},
   "outputs": [
    {
     "name": "stdout",
     "output_type": "stream",
     "text": [
      "Exercise Recordings DataFrame:\n",
      "                                    _id  userEmail exerciseName  channel  \\\n",
      "0  {'$oid': '67cb210abc0d51d7519accb2'}          0  Bicep Curls        2   \n",
      "1  {'$oid': '67cb223fbc0d51d7519accb6'}          0  Bicep Curls        1   \n",
      "2  {'$oid': '67cecf44c4f5e290fedf2cfd'}          1  Bicep Curls        2   \n",
      "3  {'$oid': '67ced05ac4f5e290fedf2cff'}          1  Bicep Curls        3   \n",
      "4  {'$oid': '67ced159c4f5e290fedf2d03'}          1  Bicep Curls        3   \n",
      "\n",
      "                                   hrDuringRecording  \\\n",
      "0  [{'time': 1741365504085.0, 'hr': 78}, {'time':...   \n",
      "1  [{'time': 1741365582699.0, 'hr': 77}, {'time':...   \n",
      "2  [{'time': 1741606485373.0, 'hr': 79}, {'time':...   \n",
      "3  [{'time': 1741606762751.0002, 'hr': 79}, {'tim...   \n",
      "4  [{'time': 1741607017764.0, 'hr': 79}, {'time':...   \n",
      "\n",
      "                                     hrPostRecording  \\\n",
      "0                                                 []   \n",
      "1  [{'time': 1741365664413.9998, 'hr': 77}, {'tim...   \n",
      "2  [{'time': 1741606605742.0, 'hr': 71}, {'time':...   \n",
      "3  [{'time': 1741606829073.0, 'hr': 79}, {'time':...   \n",
      "4  [{'time': 1741607024912.0002, 'hr': 79}, {'tim...   \n",
      "\n",
      "                                   accelerometerData  \\\n",
      "0  [{'tut': '3.01', 'maxPressure': 2407}, {'tut':...   \n",
      "1  [{'tut': '2.49', 'maxPressure': 2475}, {'tut':...   \n",
      "2  [{'tut': '3.37', 'maxPressure': 2211}, {'tut':...   \n",
      "3  [{'tut': '3.48', 'maxPressure': 2135}, {'tut':...   \n",
      "4  [{'tut': '4.13', 'maxPressure': 1924}, {'tut':...   \n",
      "\n",
      "                              recordedAt  __v  \n",
      "0  {'$date': '2025-03-07T16:38:34.038Z'}    0  \n",
      "1  {'$date': '2025-03-07T16:43:43.082Z'}    0  \n",
      "2  {'$date': '2025-03-10T11:38:44.868Z'}    0  \n",
      "3  {'$date': '2025-03-10T11:43:22.044Z'}    0  \n",
      "4  {'$date': '2025-03-10T11:47:37.416Z'}    0  \n",
      "\n",
      "Users DataFrame:\n",
      "                                    _id  name email  \\\n",
      "0  {'$oid': '677fc791c2b2f7393ad80357'}  test  test   \n",
      "1  {'$oid': '67cb1bcfbc0d51d7519acca8'}     0     0   \n",
      "2  {'$oid': '67cecb7fc4f5e290fedf2cf4'}     1     1   \n",
      "3  {'$oid': '67d16ea35cdb1fcde02dd605'}     2     2   \n",
      "4  {'$oid': '67d2b0e4cdf9d87c7b17dc47'}     3     3   \n",
      "\n",
      "                                            password  \\\n",
      "0  $2b$10$lTzRXEsPjA0.s1lCEIo/J.CbaxDEsMGwCDojrJf...   \n",
      "1  $2b$10$H0XXmX7d2yimxYaCVZarNuKfliVkKRQ1z3R3ReD...   \n",
      "2  $2b$10$cI7hxruPjXBeiz4qbZB2JuPH8MDIDsgXw5TVpo/...   \n",
      "3  $2b$10$6sOdi2EXGLqnBU9s.yHpWuM3agoEOgUPF2dSBAW...   \n",
      "4  $2b$10$tW1Fp34dJTthTYNdbLWIQuaJ6pbHw9WrdzTbmNw...   \n",
      "\n",
      "                                     id  __v     HR  pressure  \n",
      "0  a9074d43-4e1f-4bd4-a5d2-649d36e93d02    0   1.00      3030  \n",
      "1  c42b7357-e757-4ae3-9cd9-23b6cdfaa862    0  78.00      2467  \n",
      "2  7a7f5208-a586-42c3-b21e-5e0bb44d20a1    0  81.35      2287  \n",
      "3  4221fc00-b24f-496d-b289-59721b65e413    0  78.80      1152  \n",
      "4  cace8785-0a74-4654-be40-c401af29eeab    0  81.00      1986  \n"
     ]
    }
   ],
   "source": [
    "import pandas as pd\n",
    "import json\n",
    "\n",
    "# Define the file paths\n",
    "recordings_file = 'exercise_recordings_2025-04-13_12-38-11.json'\n",
    "users_file = 'users_2025-04-13_12-38-11.json'\n",
    "\n",
    "# Load the exercise recordings file\n",
    "# Assuming it is newline delimited JSON (each line is a JSON record)\n",
    "try:\n",
    "    recordings_df = pd.read_json(recordings_file, lines=True)\n",
    "except ValueError:\n",
    "    # If file is a single JSON array, remove the parameter lines=True\n",
    "    recordings_df = pd.read_json(recordings_file)\n",
    "\n",
    "# Load the users file similarly\n",
    "try:\n",
    "    users_df = pd.read_json(users_file, lines=True)\n",
    "except ValueError:\n",
    "    users_df = pd.read_json(users_file)\n",
    "\n",
    "print('Exercise Recordings DataFrame:')\n",
    "print(recordings_df.head())\n",
    "\n",
    "print('\\nUsers DataFrame:')\n",
    "print(users_df.head())"
   ]
  },
  {
   "cell_type": "markdown",
   "id": "a673bb1a",
   "metadata": {},
   "source": [
    "## Merging the DataFrames\n",
    "\n",
    "We merge the recordings DataFrame with the users DataFrame on the condition that `recordings_df.userEmail` equals `users_df.email`. This is performed as an inner join so that only the records with matching user identifiers appear in the final output."
   ]
  },
  {
   "cell_type": "code",
   "execution_count": null,
   "id": "3dc7803e",
   "metadata": {},
   "outputs": [
    {
     "ename": "SyntaxError",
     "evalue": "unmatched ')' (1131653129.py, line 4)",
     "output_type": "error",
     "traceback": [
      "\u001b[1;36m  Cell \u001b[1;32mIn[5], line 4\u001b[1;36m\u001b[0m\n\u001b[1;33m    )\u001b[0m\n\u001b[1;37m    ^\u001b[0m\n\u001b[1;31mSyntaxError\u001b[0m\u001b[1;31m:\u001b[0m unmatched ')'\n"
     ]
    }
   ],
   "source": [
    "recordings_df['userEmail'] = recordings_df['userEmail'].astype(str)\n",
    "users_df['email'] = users_df['email'].astype(str)\n",
    "merged_df = pd.merge(recordings_df, users_df, left_on='userEmail', right_on='email', how='inner')\n",
    "\n",
    "print('Merged DataFrame:')\n",
    "print(merged_df.head())"
   ]
  },
  {
   "cell_type": "markdown",
   "id": "412540f0",
   "metadata": {},
   "source": [
    "## Saving or Exporting the Merged Data\n",
    "\n",
    "If further analysis is needed, you can save the merged DataFrame to a new JSON or CSV file."
   ]
  },
  {
   "cell_type": "code",
   "execution_count": null,
   "id": "c5cc4d7c",
   "metadata": {},
   "outputs": [],
   "source": [
    "# Export the merged DataFrame to a CSV file\n",
    "merged_df.to_csv('/mnt/data/merged_output.csv', index=False)\n",
    "\n",
    "# Alternatively, save as JSON (newline delimited)\n",
    "merged_df.to_json('/mnt/data/merged_output.json', orient='records', lines=True)"
   ]
  },
  {
   "cell_type": "markdown",
   "id": "a914d4f9",
   "metadata": {},
   "source": [
    "## Summary\n",
    "\n",
    "The notebook demonstrates how to read two JSON files (one containing exercise recordings and the other with user details), convert them into pandas DataFrames, and merge them based on matching user identifiers. This provides a consolidated dataset that can be used for further analysis."
   ]
  }
 ],
 "metadata": {
  "kernelspec": {
   "display_name": "base",
   "language": "python",
   "name": "python3"
  },
  "language_info": {
   "codemirror_mode": {
    "name": "ipython",
    "version": 3
   },
   "file_extension": ".py",
   "mimetype": "text/x-python",
   "name": "python",
   "nbconvert_exporter": "python",
   "pygments_lexer": "ipython3",
   "version": "3.12.7"
  }
 },
 "nbformat": 4,
 "nbformat_minor": 5
}
